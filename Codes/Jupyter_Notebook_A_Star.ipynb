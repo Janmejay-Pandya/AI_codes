{
 "cells": [
  {
   "cell_type": "code",
   "execution_count": 5,
   "id": "c1d7d157",
   "metadata": {},
   "outputs": [
    {
     "name": "stdout",
     "output_type": "stream",
     "text": [
      "A* Path: A -> B -> D -> E -> F\n",
      "Total cost: 7\n"
     ]
    }
   ],
   "source": [
    "\"\"\"Implement A* algorithm. Read directed weighted graph and heuristic\n",
    "values from a .csv file. \"\"\"\n",
    "import csv\n",
    "import heapq\n",
    "from collections import defaultdict\n",
    "import os\n",
    "\n",
    "# Function to read directed, weighted graph from a CSV file\n",
    "def read_graph_from_csv(filepath):\n",
    "    graph = defaultdict(list)\n",
    "    with open(filepath, newline='') as csvfile:\n",
    "        reader = csv.DictReader(csvfile)\n",
    "        for row in reader:\n",
    "            u, v, w = row['from'], row['to'], int(row['weight'])\n",
    "            graph[u].append((v, w))  # Directed edge\n",
    "    return graph\n",
    "\n",
    "# Function to read heuristic values from CSV\n",
    "def read_heuristics_from_csv(filepath):\n",
    "    heuristics = {}\n",
    "    with open(filepath, newline='') as csvfile:\n",
    "        reader = csv.DictReader(csvfile)\n",
    "        for row in reader:\n",
    "            heuristics[row['node']] = int(row['heuristic'])\n",
    "    return heuristics\n",
    "\n",
    "# A* Search Algorithm\n",
    "def a_star_search(graph, heuristics, start, goal):\n",
    "    open_set = [(heuristics[start], 0, start, [start])]  # (f = g + h, g, node, path)\n",
    "    visited = set()\n",
    "\n",
    "    while open_set:\n",
    "        f, g, current, path = heapq.heappop(open_set)\n",
    "\n",
    "        if current in visited:\n",
    "            continue\n",
    "        visited.add(current)\n",
    "\n",
    "        if current == goal:\n",
    "            print(\"A* Path:\", \" -> \".join(path))\n",
    "            print(\"Total cost:\", g)\n",
    "            return\n",
    "\n",
    "        for neighbor, weight in graph[current]:\n",
    "            if neighbor not in visited:\n",
    "                new_g = g + weight\n",
    "                new_f = new_g + heuristics.get(neighbor, float('inf'))\n",
    "                heapq.heappush(open_set, (new_f, new_g, neighbor, path + [neighbor]))\n",
    "\n",
    "    print(\"Goal not reachable.\")\n",
    "\n",
    "# Main\n",
    "if __name__ == \"__main__\":\n",
    "    # Set file paths\n",
    "    graph_csv = os.path.join(\"CSV Files\", \"graph_data.csv\")\n",
    "    heuristics_csv = os.path.join(\"CSV Files\", \"heuristic_data.csv\")\n",
    "\n",
    "    # Read graph and heuristics\n",
    "    graph = read_graph_from_csv(graph_csv)\n",
    "    heuristics = read_heuristics_from_csv(heuristics_csv)\n",
    "\n",
    "    start_node = input(\"Enter start node: \").strip()\n",
    "    goal_node = input(\"Enter goal node: \").strip()\n",
    "\n",
    "    a_star_search(graph, heuristics, start_node, goal_node)\n"
   ]
  },
  {
   "cell_type": "code",
   "execution_count": null,
   "id": "59040dc9",
   "metadata": {},
   "outputs": [],
   "source": []
  }
 ],
 "metadata": {
  "kernelspec": {
   "display_name": ".venv",
   "language": "python",
   "name": "python3"
  },
  "language_info": {
   "codemirror_mode": {
    "name": "ipython",
    "version": 3
   },
   "file_extension": ".py",
   "mimetype": "text/x-python",
   "name": "python",
   "nbconvert_exporter": "python",
   "pygments_lexer": "ipython3",
   "version": "3.11.6"
  }
 },
 "nbformat": 4,
 "nbformat_minor": 5
}
